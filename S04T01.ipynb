{
 "cells": [
  {
   "cell_type": "markdown",
   "metadata": {},
   "source": [
    "# S04 T01: Transformació Registre Log amb Regular expressions\n",
    "## Descripció\n",
    "\n",
    "L'anàlisi de registres és una funció important per al control i l'alerta, el compliment de les polítiques de seguretat, l'auditoria i el compliment normatiu, la resposta a incidents de seguretat i fins i tot les investigacions forenses. En analitzar les dades de registre, les empreses poden identificar més fàcilment les possibles amenaces i altres problemes, trobar la causa arrel i iniciar una resposta ràpida per mitigar els riscos.\n",
    "Nivell 1\n",
    "\n",
    "L'analista ha d'assegurar-se que els registres consisteixen en una gamma completa de missatges i s'interpreten segons el context. Els elements de registre han d'estandaritzar-se, utilitzant els mateixos termes o terminologia, per evitar confusions i proporcionar cohesió.\n",
    "\n",
    "Com Científic de Dades se t'ha proporcionat accés als registres-Logs on queda registrada l'activitat de totes les visites a realitzades a la pàgina web de l'agència de viatges \"akumenius.com\".\n",
    "\n",
    "### - Exercici 1\n",
    "\n",
    "Estandaritza, identifica i enumera cada un dels atributs / variables de l'estructura de l'arxiu \"Web_access_log-akumenius.com\" que trobaràs al repositori de GitHub \"Data-sources\"."
   ]
  },
  {
   "cell_type": "code",
   "execution_count": 24,
   "metadata": {},
   "outputs": [],
   "source": [
    "import pandas as pd\n",
    "\n",
    "#d_ServerName=\"(\\S+)\"\n",
    "\n",
    "#patterns = [pattern1, pattern2, pattern3]\n",
    "#compiled_combined = re.compile('|'.join(x for x in patterns), FLAGS_TO_USE)\n",
    "delimiter = r'(\\S+)\\s([0-9.]+|-)\\s(.+)\\s(.+)\\s\\[(\\d+/\\w+/\\d{4}):(\\d+:\\d+:\\d+\\s\\+\\d*)\\]\\s\\\"(\\w{3,7}) \\* (.*)\\\"\\s(\\d+|-)\\s(\\d+|-)\\s\\\"(.+)\\\"\\s\\\"(.+)\\\"\\sVLOG=(.+)'\n",
    "data_file = \"Web_access_log-akumenius.com.txt\"\n",
    "column_names = ['ServerName', 'IP', 'Identity', 'UserID','Date','Time','Request','Protocol','ErrorCode','PkgSize', 'Referer', 'Browser','VLOG' ]\n",
    "              \n",
    "\n",
    "df = pd.read_csv(data_file,delimiter=delimiter,engine='python',keep_default_na=True<z,names=['ServerName', 'IP', 'Identity', 'UserID','Date','Time','Request','Protocol','ErrorCode','PkgSize', 'Referer', 'Browser','VLOG' ])\n",
    "               \n",
    "df.tail(100)"
   ]
  },
  {
   "cell_type": "markdown",
   "metadata": {},
   "source": [
    "## Nivell 2\n",
    "\n",
    "### - Exercici 2\n",
    "\n",
    "Neteja, preprocesa, estructura i transforma (dataframe) les dades del registre d'Accés a la web."
   ]
  },
  {
   "cell_type": "markdown",
   "metadata": {},
   "source": [
    "### - Exercici 3\n",
    "\n",
    "Geolocalitza les IP's."
   ]
  },
  {
   "cell_type": "markdown",
   "metadata": {},
   "source": [
    "## Nivell 3\n",
    "\n",
    "### - Exercici 3\n",
    "\n",
    "Mostra'm la teva creativitat, Sorprèn-me fes un pas més enllà amb l'anàlisi anterior."
   ]
  }
 ],
 "metadata": {
  "interpreter": {
   "hash": "e7370f93d1d0cde622a1f8e1c04877d8463912d04d973331ad4851f04de6915a"
  },
  "kernelspec": {
   "display_name": "Python 3.10.0 64-bit",
   "language": "python",
   "name": "python3"
  },
  "language_info": {
   "codemirror_mode": {
    "name": "ipython",
    "version": 3
   },
   "file_extension": ".py",
   "mimetype": "text/x-python",
   "name": "python",
   "nbconvert_exporter": "python",
   "pygments_lexer": "ipython3",
   "version": "3.10.0"
  },
  "orig_nbformat": 4
 },
 "nbformat": 4,
 "nbformat_minor": 2
}
